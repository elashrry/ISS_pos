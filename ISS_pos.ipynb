{
 "cells": [
  {
   "cell_type": "code",
   "execution_count": 3,
   "metadata": {},
   "outputs": [],
   "source": [
    "import pandas as pd\n",
    "import plotly.express as px\n",
    "import jupyter_dash\n",
    "import dash_html_components as html\n",
    "import dash_core_components as dcc\n",
    "\n",
    "from dash.dependencies import Input, Output\n",
    "\n",
    "\n",
    "def new_data(url):\n",
    "    df = pd.read_json(url)\n",
    "    df['lon'] = df.loc['longitude', 'iss_position']\n",
    "    df['lat'] = df.loc['latitude', 'iss_position']\n",
    "    df.reset_index(drop=True, inplace=True)\n",
    "    df.drop(['iss_position', 'message'], axis=1, inplace=True)\n",
    "    df.drop(0, axis=0, inplace=True)\n",
    "    return df\n",
    "\n",
    "\n",
    "url = 'http://api.open-notify.org/iss-now.json'\n",
    "df = new_data(url)      # starting point\n",
    "\n",
    "fig = px.line_geo(df, lat='lat', lon='lon', title='Where is ISS Now', projection='natural earth')\n",
    "app = jupyter_dash.JupyterDash(__name__, update_title=None)  # remove \"Updating...\" from title\n",
    "app.layout = html.Div([dcc.Graph(id='graph', figure=fig), dcc.Interval(id=\"interval\")])\n",
    "\n",
    "@app.callback(Output('graph', 'extendData'), [Input('interval', 'n_intervals')])\n",
    "def add_data(n_intervals):\n",
    "    df = new_data(url)\n",
    "    return {'lon': [df['lon']], 'lat': [df['lat']]}\n",
    "\n",
    "\n",
    "if __name__ == '__main__':\n",
    "    app.run_server(mode='jupyterlab')"
   ]
  }
 ],
 "metadata": {
  "kernelspec": {
   "display_name": "Python 3",
   "language": "python",
   "name": "python3"
  },
  "language_info": {
   "codemirror_mode": {
    "name": "ipython",
    "version": 3
   },
   "file_extension": ".py",
   "mimetype": "text/x-python",
   "name": "python",
   "nbconvert_exporter": "python",
   "pygments_lexer": "ipython3",
   "version": "3.8.5"
  }
 },
 "nbformat": 4,
 "nbformat_minor": 4
}
